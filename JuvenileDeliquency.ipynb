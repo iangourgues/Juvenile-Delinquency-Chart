{
  "nbformat": 4,
  "nbformat_minor": 0,
  "metadata": {
    "colab": {
      "provenance": [],
      "toc_visible": true
    },
    "kernelspec": {
      "name": "python3",
      "display_name": "Python 3"
    },
    "language_info": {
      "name": "python"
    }
  },
  "cells": [
    {
      "cell_type": "code",
      "execution_count": null,
      "metadata": {
        "id": "-2htG3lAmE17",
        "colab": {
          "base_uri": "https://localhost:8080/"
        },
        "outputId": "e011272c-a26e-4490-9476-7a7e5038c836"
      },
      "outputs": [
        {
          "output_type": "stream",
          "name": "stdout",
          "text": [
            "Number of columns in the dataset: 15\n",
            "   Year   Total  12 & under  13 to 15      16  17 & over    Male  Female  \\\n",
            "0  2021  437300       32300    197500  108200      99400  320800  116500   \n",
            "1  2020  504800       38300    226600  123300     116600  369200  135600   \n",
            "2  2019  711900       60900    326800  169200     155000  513700  198200   \n",
            "3  2018  737200       62400    328700  179900     166100  535600  201500   \n",
            "4  2017  782700       62600    345800  195900     178400  571600  211100   \n",
            "\n",
            "    White  Minority   Black  American Indian  Asian/NHPI  Hispanic  \n",
            "0  194300    243100  154200             9100        4900     74900  \n",
            "1  219200    285600  175100            10500        6000     94000  \n",
            "2  303300    408600  251700            13300        8400    135200  \n",
            "3  324100    413100  253900            13200        8400    137600  \n",
            "4  345100    437700  272900            13400        8500    142900  \n"
          ]
        }
      ],
      "source": [
        "import pandas as pd\n",
        "\n",
        "# Load the dataset, skipping the initial 4 rows where the data starts\n",
        "data = pd.read_csv('/content/drive/MyDrive/ezajcs_demo.csv', delimiter=\",\", quotechar='\"', skiprows=4)\n",
        "\n",
        "# Check the number of columns in the loaded data\n",
        "num_columns = len(data.columns)\n",
        "print(f\"Number of columns in the dataset: {num_columns}\")\n",
        "\n",
        "# Assign column names based on the actual number of columns\n",
        "if num_columns == 15:\n",
        "    # If there's an extra column\n",
        "    data.columns = [\n",
        "        \"Year\", \"Total\", \"12 & under\", \"13 to 15\", \"16\", \"17 & over\",\n",
        "        \"Male\", \"Female\", \"White\", \"Minority\", \"Black\",\n",
        "        \"American Indian\", \"Asian/NHPI\", \"Hispanic\", \"Extra\"\n",
        "    ]\n",
        "    # Drop the \"Extra\" column if it's present\n",
        "    data_cleaned = data.drop(columns=[\"Extra\"])\n",
        "elif num_columns == 14:\n",
        "    # If there are 14 columns as expected\n",
        "    data.columns = [\n",
        "        \"Year\", \"Total\", \"12 & under\", \"13 to 15\", \"16\", \"17 & over\",\n",
        "        \"Male\", \"Female\", \"White\", \"Minority\", \"Black\",\n",
        "        \"American Indian\", \"Asian/NHPI\", \"Hispanic\"\n",
        "    ]\n",
        "    data_cleaned = data\n",
        "else:\n",
        "    print(\"Unexpected number of columns in the dataset.\")\n",
        "    data_cleaned = data\n",
        "\n",
        "# Drop rows where the 'Hispanic' column has zero values\n",
        "data_cleaned = data_cleaned[data_cleaned['Hispanic'] != 0]\n",
        "\n",
        "# Drop rows 37 through 40 as they contain metadata or notes\n",
        "rows_to_remove_metadata = data_cleaned.index[37:41]\n",
        "data_cleaned = data_cleaned.drop(rows_to_remove_metadata)\n",
        "\n",
        "# Clean numeric columns by removing commas and converting to integers\n",
        "numeric_columns = [\n",
        "    \"Total\", \"12 & under\", \"13 to 15\", \"16\", \"17 & over\",\n",
        "    \"Male\", \"Female\", \"White\", \"Minority\", \"Black\",\n",
        "    \"American Indian\", \"Asian/NHPI\", \"Hispanic\"\n",
        "]\n",
        "\n",
        "data_cleaned[numeric_columns] = data_cleaned[numeric_columns].replace({',': ''}, regex=True)\n",
        "data_cleaned[numeric_columns] = data_cleaned[numeric_columns].apply(pd.to_numeric, errors='coerce')\n",
        "\n",
        "# Display the cleaned data\n",
        "pd.set_option('display.max_rows', None)\n",
        "pd.set_option('display.max_columns', None)\n",
        "print(data_cleaned.head())\n"
      ]
    },
    {
      "cell_type": "code",
      "source": [
        "# Define the path to save the cleaned data\n",
        "cleaned_file_path = '/content/drive/MyDrive/ezajcs_cleaned.csv'\n",
        "\n",
        "# Save the cleaned dataset\n",
        "data_cleaned.to_csv(cleaned_file_path, index=False)\n",
        "\n",
        "# Confirm the file is saved\n",
        "print(f\"Cleaned data saved to: {cleaned_file_path}\")\n"
      ],
      "metadata": {
        "colab": {
          "base_uri": "https://localhost:8080/"
        },
        "id": "5BKyPxQFyrdK",
        "outputId": "93595129-7865-457d-878a-8a2705bb608c"
      },
      "execution_count": null,
      "outputs": [
        {
          "output_type": "stream",
          "name": "stdout",
          "text": [
            "Cleaned data saved to: /content/drive/MyDrive/ezajcs_cleaned.csv\n"
          ]
        }
      ]
    },
    {
      "cell_type": "code",
      "source": [
        "# @title Tableau Dashboard\n",
        "\n",
        "from IPython.display import HTML\n",
        "\n",
        "HTML(\"\"\"\n",
        "<div class='tableauPlaceholder' id='viz1724960070319' style='position: relative'><noscript><a href='#'><img alt=' ' src='https:&#47;&#47;public.tableau.com&#47;static&#47;images&#47;Ju&#47;JuvenileDelinquencyChart&#47;Dashboard1&#47;1_rss.png' style='border: none' /></a></noscript><object class='tableauViz'  style='display:none;'><param name='host_url' value='https%3A%2F%2Fpublic.tableau.com%2F' /> <param name='embed_code_version' value='3' /> <param name='site_root' value='' /><param name='name' value='JuvenileDelinquencyChart&#47;Dashboard1' /><param name='tabs' value='yes' /><param name='toolbar' value='yes' /><param name='static_image' value='https:&#47;&#47;public.tableau.com&#47;static&#47;images&#47;Ju&#47;JuvenileDelinquencyChart&#47;Dashboard1&#47;1.png' /> <param name='animate_transition' value='yes' /><param name='display_static_image' value='yes' /><param name='display_spinner' value='yes' /><param name='display_overlay' value='yes' /><param name='display_count' value='yes' /><param name='language' value='en-US' /></object></div>                <script type='text/javascript'>                    var divElement = document.getElementById('viz1724960070319');                    var vizElement = divElement.getElementsByTagName('object')[0];                    if ( divElement.offsetWidth > 800 ) { vizElement.style.minWidth='1024px';vizElement.style.maxWidth='100%';vizElement.style.minHeight='818px';vizElement.style.maxHeight=(divElement.offsetWidth*0.75)+'px';} else if ( divElement.offsetWidth > 500 ) { vizElement.style.minWidth='1024px';vizElement.style.maxWidth='100%';vizElement.style.minHeight='818px';vizElement.style.maxHeight=(divElement.offsetWidth*0.75)+'px';} else { vizElement.style.width='100%';vizElement.style.minHeight='1250px';vizElement.style.maxHeight=(divElement.offsetWidth*1.77)+'px';}                     var scriptElement = document.createElement('script');                    scriptElement.src = 'https://public.tableau.com/javascripts/api/viz_v1.js';                    vizElement.parentNode.insertBefore(scriptElement, vizElement);                </script>\n",
        "\"\"\")"
      ],
      "metadata": {
        "id": "S-kzPmQMxqgK",
        "colab": {
          "base_uri": "https://localhost:8080/",
          "height": 835
        },
        "outputId": "6bd766de-b15d-48b7-c75c-0ecfee0bc823"
      },
      "execution_count": 4,
      "outputs": [
        {
          "output_type": "execute_result",
          "data": {
            "text/plain": [
              "<IPython.core.display.HTML object>"
            ],
            "text/html": [
              "\n",
              "<div class='tableauPlaceholder' id='viz1724960070319' style='position: relative'><noscript><a href='#'><img alt=' ' src='https:&#47;&#47;public.tableau.com&#47;static&#47;images&#47;Ju&#47;JuvenileDelinquencyChart&#47;Dashboard1&#47;1_rss.png' style='border: none' /></a></noscript><object class='tableauViz'  style='display:none;'><param name='host_url' value='https%3A%2F%2Fpublic.tableau.com%2F' /> <param name='embed_code_version' value='3' /> <param name='site_root' value='' /><param name='name' value='JuvenileDelinquencyChart&#47;Dashboard1' /><param name='tabs' value='yes' /><param name='toolbar' value='yes' /><param name='static_image' value='https:&#47;&#47;public.tableau.com&#47;static&#47;images&#47;Ju&#47;JuvenileDelinquencyChart&#47;Dashboard1&#47;1.png' /> <param name='animate_transition' value='yes' /><param name='display_static_image' value='yes' /><param name='display_spinner' value='yes' /><param name='display_overlay' value='yes' /><param name='display_count' value='yes' /><param name='language' value='en-US' /></object></div>                <script type='text/javascript'>                    var divElement = document.getElementById('viz1724960070319');                    var vizElement = divElement.getElementsByTagName('object')[0];                    if ( divElement.offsetWidth > 800 ) { vizElement.style.minWidth='1024px';vizElement.style.maxWidth='100%';vizElement.style.minHeight='818px';vizElement.style.maxHeight=(divElement.offsetWidth*0.75)+'px';} else if ( divElement.offsetWidth > 500 ) { vizElement.style.minWidth='1024px';vizElement.style.maxWidth='100%';vizElement.style.minHeight='818px';vizElement.style.maxHeight=(divElement.offsetWidth*0.75)+'px';} else { vizElement.style.width='100%';vizElement.style.minHeight='1250px';vizElement.style.maxHeight=(divElement.offsetWidth*1.77)+'px';}                     var scriptElement = document.createElement('script');                    scriptElement.src = 'https://public.tableau.com/javascripts/api/viz_v1.js';                    vizElement.parentNode.insertBefore(scriptElement, vizElement);                </script>\n"
            ]
          },
          "metadata": {},
          "execution_count": 4
        }
      ]
    }
  ]
}